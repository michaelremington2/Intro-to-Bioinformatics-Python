{
 "cells": [
  {
   "cell_type": "markdown",
   "id": "db61d86e",
   "metadata": {},
   "source": [
    "# Welcome to the Biopython Workshop!\n",
    "**Presented By:** Michael Remington"
   ]
  },
  {
   "cell_type": "markdown",
   "id": "138cf21e",
   "metadata": {},
   "source": [
    "## What is Bioinformatics?\n",
    "\n",
    "Bioinformatics is a highly interdisiplinary field combines: biology, computer science, mathematics, and statistics to analyze and interpret biological data.\n",
    "\n",
    "Computational tools and techniques to understand biological systems, processes, and relationships.\n",
    "\n",
    "Use Cases:\n",
    "- Evolutionary Biology and Species relationships\n",
    "- Medical applications such as drug discovery or studying disease\n",
    "- Agriculture Research\n",
    "\n",
    "\n",
    "Types of Analysis:\n",
    "- Parse files\n",
    "- Analysis of genomic sequences, protein structures, or gene expression data\n",
    "- Storing, retrieving, and organizing biological information in databases\n",
    "- Sequence Analysis: Analyzing DNA, RNA, Regulatory elements\n",
    "- Comparing sequences to find evolutionary relationships\n",
    "- Analyzing 3D structures of biomolecules \n",
    "- Modeling molecular interactions\n",
    "- Identifying genes, coding regions"
   ]
  },
  {
   "cell_type": "markdown",
   "id": "dc4fbdfc",
   "metadata": {},
   "source": [
    "## What is Biopython?\n",
    "\n",
    "Biopython is a library in python that has a suite of bioinformatics and molecular biology tools. \n",
    "\n",
    "Documentation: https://biopython.org/\n",
    "Further reading: https://www.bioinformatics.org/bradstuff/bp/tut/Tutorial.pdf"
   ]
  },
  {
   "cell_type": "code",
   "execution_count": 1,
   "id": "183c81ec",
   "metadata": {},
   "outputs": [],
   "source": [
    "'''\n",
    "Here we import classes and functions from biopython we will need for analysis.\n",
    "'''\n",
    "from Bio import SeqIO\n",
    "from Bio.Seq import Seq\n",
    "from Bio import Align"
   ]
  },
  {
   "cell_type": "code",
   "execution_count": 8,
   "id": "094cecb6",
   "metadata": {},
   "outputs": [
    {
     "name": "stdout",
     "output_type": "stream",
     "text": [
      "<class 'str'>\n",
      "<class 'Bio.Seq.Seq'>\n",
      "ATATATAAGTACACTGGT\n"
     ]
    }
   ],
   "source": [
    "## Working with Sequences\n",
    "gene = 'ATATATAAGTACACTGGT'\n",
    "print(type(gene))\n",
    "my_seq = Seq(gene)\n",
    "print(type(my_seq))\n",
    "print(my_seq)"
   ]
  },
  {
   "cell_type": "code",
   "execution_count": 9,
   "id": "2d66b29c",
   "metadata": {},
   "outputs": [
    {
     "name": "stdout",
     "output_type": "stream",
     "text": [
      "Reverse complement: ACCAGTGTACTTATATAT\n",
      "Transcription: AUAUAUAAGUACACUGGU\n",
      "Translation: IYKYTG\n",
      "Count of Nucleotides: 18\n"
     ]
    }
   ],
   "source": [
    "# Seq functionality\n",
    "print(f\"Reverse complement: {my_seq.reverse_complement()}\")\n",
    "print(f\"Transcription: {my_seq.transcribe()}\")\n",
    "print(f\"Translation: {my_seq.translate()}\")\n",
    "print(f\"Count of Nucleotides: {len(my_seq)}\")"
   ]
  },
  {
   "cell_type": "code",
   "execution_count": 12,
   "id": "8dd02de3",
   "metadata": {},
   "outputs": [
    {
     "name": "stdout",
     "output_type": "stream",
     "text": [
      "Reverse complement: TTAACCAGTGTACTTATATATCAT\n",
      "Transcription: AUGAUAUAUAAGUACACUGGUUAA\n",
      "Translation: MIYKYTG*\n",
      "Count of Nucleotides: 24\n"
     ]
    }
   ],
   "source": [
    "# Perform Operations \n",
    "start_codon = Seq(\"ATG\")\n",
    "stop_codon = Seq(\"TAA\")\n",
    "new_sequence = start_codon + my_seq + stop_codon\n",
    "print(f\"Reverse complement: {new_sequence.reverse_complement()}\")\n",
    "print(f\"Transcription: {new_sequence.transcribe()}\")\n",
    "print(f\"Translation: {new_sequence.translate()}\")\n",
    "print(f\"Count of Nucleotides: {len(new_sequence)}\")"
   ]
  },
  {
   "cell_type": "code",
   "execution_count": null,
   "id": "d81a9e77",
   "metadata": {},
   "outputs": [],
   "source": [
    "# Create a SeqRecord object with additional metadata\n",
    "from Bio.SeqRecord import SeqRecord\n",
    "seq_record = SeqRecord(\n",
    "    sequence,\n",
    "    id=\"ABC123\",\n",
    "    name=\"Sample Sequence\",\n",
    "    description=\"This is a sample SeqRecord\"\n",
    ")\n",
    "\n",
    "# Accessing SeqRecord attributes\n",
    "print(\"ID:\", seq_record.id)\n",
    "print(\"Name:\", seq_record.name)\n",
    "print(\"Description:\", seq_record.description)\n",
    "print(\"Sequence:\", seq_record.seq)"
   ]
  },
  {
   "cell_type": "code",
   "execution_count": null,
   "id": "fe50c4b1",
   "metadata": {},
   "outputs": [],
   "source": [
    "# File Parsers"
   ]
  }
 ],
 "metadata": {
  "kernelspec": {
   "display_name": "Python 3",
   "language": "python",
   "name": "python3"
  },
  "language_info": {
   "codemirror_mode": {
    "name": "ipython",
    "version": 3
   },
   "file_extension": ".py",
   "mimetype": "text/x-python",
   "name": "python",
   "nbconvert_exporter": "python",
   "pygments_lexer": "ipython3",
   "version": "3.8.5"
  }
 },
 "nbformat": 4,
 "nbformat_minor": 5
}
