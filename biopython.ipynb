{
 "cells": [
  {
   "cell_type": "markdown",
   "id": "7d09d44e",
   "metadata": {},
   "source": [
    "# Welcome to the Biopython Workshop!\n",
    "**Presented By:** Michael Remington"
   ]
  },
  {
   "cell_type": "markdown",
   "id": "059e65e6",
   "metadata": {},
   "source": [
    "## What is Bioinformatics?\n",
    "\n",
    "Bioinformatics is a highly interdisiplinary field combines: biology, computer science, mathematics, and statistics to analyze and interpret biological data.\n",
    "\n",
    "Computational tools and techniques to understand biological systems, processes, and relationships.\n",
    "\n",
    "Use Cases:\n",
    "- Evolutionary Biology and Species relationships\n",
    "- Medical applications such as drug discovery or studying disease\n",
    "- Agriculture\n",
    "\n",
    "\n",
    "Types of Analysis:\n",
    "- Analysis of genomic sequences, protein structures, or gene expression data\n",
    "- Storing, retrieving, and organizing biological information in databases\n",
    "- Sequence Analysis: Analyzing DNA, RNA, Regulatory elements\n",
    "- Comparing sequences to find evolutionary relationships\n",
    "- Analyzing 3D structures of biomolecules \n",
    "- Modeling molecular interactions\n",
    "- Identifying genes, coding regions"
   ]
  },
  {
   "cell_type": "markdown",
   "id": "883de212",
   "metadata": {},
   "source": [
    "## What is Biopython?\n",
    "\n",
    "Biopython is a library in python that has a suite of bioinformatics and molecular biology tools. \n",
    "\n",
    "Documentation: https://biopython.org/"
   ]
  },
  {
   "cell_type": "code",
   "execution_count": 6,
   "id": "f3088d3a",
   "metadata": {},
   "outputs": [],
   "source": [
    "'''\n",
    "Here we import classes and functions from biopython we will need for analysis.\n",
    "'''\n",
    "from Bio import SeqIO\n",
    "from Bio.Seq import Seq\n",
    "from Bio import Align"
   ]
  },
  {
   "cell_type": "code",
   "execution_count": 9,
   "id": "1c931010",
   "metadata": {},
   "outputs": [
    {
     "name": "stdout",
     "output_type": "stream",
     "text": [
      "<class 'str'>\n",
      "<class 'Bio.Seq.Seq'>\n",
      "ATGATATATAAGTACACTGGTTAA\n"
     ]
    }
   ],
   "source": [
    "## Working with Sequences\n",
    "gene = 'ATGATATATAAGTACACTGGTTAA'\n",
    "print(type(gene))\n",
    "my_seq = Seq(gene)\n",
    "print(type(my_seq))\n",
    "print(my_seq)"
   ]
  },
  {
   "cell_type": "code",
   "execution_count": 10,
   "id": "b2c8ee26",
   "metadata": {},
   "outputs": [
    {
     "data": {
      "text/plain": [
       "Seq('TACTATATATTCATGTGACCAATT')"
      ]
     },
     "execution_count": 10,
     "metadata": {},
     "output_type": "execute_result"
    }
   ],
   "source": [
    "# Seq functionality\n",
    "print(my_seq.complement())"
   ]
  }
 ],
 "metadata": {
  "kernelspec": {
   "display_name": "Python 3",
   "language": "python",
   "name": "python3"
  },
  "language_info": {
   "codemirror_mode": {
    "name": "ipython",
    "version": 3
   },
   "file_extension": ".py",
   "mimetype": "text/x-python",
   "name": "python",
   "nbconvert_exporter": "python",
   "pygments_lexer": "ipython3",
   "version": "3.8.5"
  }
 },
 "nbformat": 4,
 "nbformat_minor": 5
}
